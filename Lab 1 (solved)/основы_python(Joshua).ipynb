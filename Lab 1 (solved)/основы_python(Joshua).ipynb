{
  "cells": [
    {
      "cell_type": "markdown",
      "metadata": {
        "id": "M-DGa20PaHnu"
      },
      "source": [
        "#Задача 1\n",
        "Написать функцию на вход которой подается строка, состоящая из латинских букв.\n",
        "Функция должна вернуть количество гласных букв (a, e, i, o, u) в этой строке. Написать тесты для кода"
      ]
    },
    {
      "cell_type": "code",
      "execution_count": 1,
      "metadata": {
        "id": "XvX8X_JJ6PCb"
      },
      "outputs": [
        {
          "name": "stdout",
          "output_type": "stream",
          "text": [
            "All tests passed!\n"
          ]
        }
      ],
      "source": [
        "def count_vowels(s: str) -> int:\n",
        "    vowels = \"aeiouAEIOU\"\n",
        "    return sum(1 for char in s if char in vowels)\n",
        "\n",
        "def test_count_vowels():\n",
        "    assert count_vowels(\"hello\") == 2\n",
        "    assert count_vowels(\"HELLO\") == 2\n",
        "    assert count_vowels(\"xyz\") == 0\n",
        "    assert count_vowels(\"aEiOu\") == 5\n",
        "    assert count_vowels(\"\") == 0\n",
        "    print(\"All tests passed!\")\n",
        "\n",
        "test_count_vowels()\n",
        "\n"
      ]
    },
    {
      "cell_type": "markdown",
      "metadata": {
        "id": "t2ClV_Y0bbr6"
      },
      "source": [
        "# Задача 2\n",
        "Написать функцию на вход, которой подается строка. Функция должна вернуть true, если\n",
        "каждый символ в строке встречается только 1 раз, иначе должна вернуть false. Написать тесты для кода"
      ]
    },
    {
      "cell_type": "code",
      "execution_count": 2,
      "metadata": {
        "id": "FppbECao6VIz"
      },
      "outputs": [
        {
          "name": "stdout",
          "output_type": "stream",
          "text": [
            "All tests passed!\n"
          ]
        }
      ],
      "source": [
        "def all_unique_characters(s: str) -> bool:\n",
        "    return len(set(s)) == len(s)\n",
        "\n",
        "def test_all_unique_characters():\n",
        "    assert all_unique_characters(\"abcdef\") == True\n",
        "    assert all_unique_characters(\"aabbcc\") == False\n",
        "    assert all_unique_characters(\"\") == True\n",
        "    assert all_unique_characters(\"AaBbCc\") == True\n",
        "    assert all_unique_characters(\"abcdea\") == False\n",
        "    print(\"All tests passed!\")\n",
        "\n",
        "test_all_unique_characters()\n"
      ]
    },
    {
      "cell_type": "markdown",
      "metadata": {
        "id": "udRiIK1cdt6E"
      },
      "source": [
        "# Задача 3\n",
        "Написать функцию, которая принимает положительное число и возвращает количество\n",
        "бит равных 1 в этом числе. Написать тесты для кода"
      ]
    },
    {
      "cell_type": "code",
      "execution_count": 3,
      "metadata": {
        "id": "6tkfDJRz6dp_"
      },
      "outputs": [
        {
          "name": "stdout",
          "output_type": "stream",
          "text": [
            "All tests passed!\n"
          ]
        }
      ],
      "source": [
        "def count_bits(n: int) -> int:\n",
        "    return bin(n).count('1')\n",
        "\n",
        "def test_count_bits():\n",
        "    assert count_bits(0) == 0           # 0b0\n",
        "    assert count_bits(1) == 1           # 0b1\n",
        "    assert count_bits(7) == 3           # 0b111\n",
        "    assert count_bits(1023) == 10       # 0b1111111111\n",
        "    assert count_bits(123456789) == bin(123456789).count('1')\n",
        "    print(\"All tests passed!\")\n",
        "\n",
        "test_count_bits()\n"
      ]
    },
    {
      "cell_type": "markdown",
      "metadata": {
        "id": "26dDUz-Ae17N"
      },
      "source": [
        "# Задача 4\n",
        "Написать функцию, которая принимает положительное число. Функция должна вернуть то,\n",
        "сколько раз необходимо перемножать цифры числа или результат перемножения, чтобы\n",
        "получилось число состоящее из одной цифры.\n",
        "Например, для входного числа:\n",
        "· 39 функция должна вернуть 3, так как 3*9=27 => 2*7=14 => 1*4=4\n",
        "· 4 функция должна вернуть 0, так как число уже состоит из одной цифры\n",
        "· 999 функция должна вернуть 4, так как 9*9*9=729 => 7*2*9=126 => 1*2*6=12 =>\n",
        "1*2=2. Написать тесты для кода"
      ]
    },
    {
      "cell_type": "code",
      "execution_count": 4,
      "metadata": {
        "id": "BH1A_Mgi6i4G"
      },
      "outputs": [
        {
          "name": "stdout",
          "output_type": "stream",
          "text": [
            "All tests passed!\n"
          ]
        }
      ],
      "source": [
        "def magic(n: int) -> int:\n",
        "    if n < 10:\n",
        "        return 0\n",
        "\n",
        "    count = 0\n",
        "    while n >= 10:\n",
        "        product = 1\n",
        "        for digit in str(n):\n",
        "            product *= int(digit)\n",
        "        n = product\n",
        "        count += 1\n",
        "\n",
        "    return count\n",
        "\n",
        "def test_magic():\n",
        "    assert magic(39) == 3\n",
        "    assert magic(4) == 0\n",
        "    assert magic(999) == 4\n",
        "    assert magic(1) == 0\n",
        "    assert magic(77) == 4    # 7×7=49 → 4×9=36 → 3×6=18 → 1×8=8\n",
        "    print(\"All tests passed!\")\n",
        "\n",
        "test_magic()\n"
      ]
    },
    {
      "cell_type": "markdown",
      "metadata": {
        "id": "0nS-kIa8g8vd"
      },
      "source": [
        "# Задача 5\n",
        "Написать функцию, которая принимает два целочисленных вектора одинаковой длины и\n",
        "возвращает среднеквадратическое отклонение двух векторов. Написать тесты для кода"
      ]
    },
    {
      "cell_type": "code",
      "execution_count": 5,
      "metadata": {
        "id": "8iphx4LM6xbx"
      },
      "outputs": [
        {
          "name": "stdout",
          "output_type": "stream",
          "text": [
            "All tests passed!\n"
          ]
        }
      ],
      "source": [
        "def mse(pred, true):\n",
        "    if len(pred) != len(true):\n",
        "        raise ValueError(\"Vectors must be of the same length\")\n",
        "    return sum((p - t) ** 2 for p, t in zip(pred, true)) / len(pred)\n",
        "\n",
        "def test_mse():\n",
        "    assert mse([1, 2, 3], [1, 2, 3]) == 0.0\n",
        "    assert mse([1, 2, 3], [4, 5, 6]) == 9.0\n",
        "    assert mse([0, 0, 0], [1, 1, 1]) == 1.0\n",
        "    assert mse([1, 3, 2], [2, 2, 2]) == (1**2 + 1**2 + 0**2) / 3\n",
        "    try:\n",
        "        mse([1, 2], [1])\n",
        "    except ValueError as e:\n",
        "        assert str(e) == \"Vectors must be of the same length\"\n",
        "    print(\"All tests passed!\")\n",
        "\n",
        "test_mse()\n"
      ]
    },
    {
      "cell_type": "markdown",
      "metadata": {
        "id": "vpIPKL439zkw"
      },
      "source": [
        "# Задача 6\n",
        "Написать функцию, принимающая целое положительное число. Функция должна вернуть\n",
        "строку вида “(n1**p1)(n2**p2)…(nk**pk)” представляющая разложение числа на простые\n",
        "множители (если pi == 1, то выводить только ni).\n",
        "Например, для числа 86240 функция должна вернуть “(2**5)(5)(7**2)(11)”. Написать тесты для кода"
      ]
    },
    {
      "cell_type": "code",
      "execution_count": 6,
      "metadata": {
        "id": "pFebmcZk94Jw"
      },
      "outputs": [
        {
          "name": "stdout",
          "output_type": "stream",
          "text": [
            "All tests passed!\n"
          ]
        }
      ],
      "source": [
        "def prime_factors(n: int) -> str:\n",
        "    i = 2\n",
        "    factors = {}\n",
        "    while i * i <= n:\n",
        "        while n % i == 0:\n",
        "            factors[i] = factors.get(i, 0) + 1\n",
        "            n //= i\n",
        "        i += 1\n",
        "    if n > 1:\n",
        "        factors[n] = factors.get(n, 0) + 1\n",
        "\n",
        "    result = \"\"\n",
        "    for prime in sorted(factors):\n",
        "        power = factors[prime]\n",
        "        if power == 1:\n",
        "            result += f\"({prime})\"\n",
        "        else:\n",
        "            result += f\"({prime}**{power})\"\n",
        "    return result\n",
        "\n",
        "def test_prime_factors():\n",
        "    assert prime_factors(86240) == \"(2**5)(5)(7**2)(11)\"\n",
        "    assert prime_factors(2) == \"(2)\"\n",
        "    assert prime_factors(60) == \"(2**2)(3)(5)\"\n",
        "    assert prime_factors(13) == \"(13)\"\n",
        "    assert prime_factors(1) == \"\"  # 1 has no prime factors\n",
        "    print(\"All tests passed!\")\n",
        "\n",
        "test_prime_factors()\n"
      ]
    },
    {
      "cell_type": "markdown",
      "metadata": {
        "id": "ps2s0BudX7A2"
      },
      "source": [
        "# Задача 7\n",
        "Написать функцию, принимающая целое число n, задающее количество кубиков. Функция\n",
        "должна определить, можно ли из данного кол-ва кубиков построить пирамиду, то есть\n",
        "можно ли представить число n как 1^2+2^2+3^2+…+k^2. Если можно, то функция должна\n",
        "вернуть k, иначе строку “It is impossible”. Написать тесты для кода"
      ]
    },
    {
      "cell_type": "code",
      "execution_count": 7,
      "metadata": {
        "id": "3YPjEXxhX_YT"
      },
      "outputs": [
        {
          "name": "stdout",
          "output_type": "stream",
          "text": [
            "All tests passed!\n"
          ]
        }
      ],
      "source": [
        "def pyramid(n: int):\n",
        "    k = 0\n",
        "    total = 0\n",
        "    while total < n:\n",
        "        k += 1\n",
        "        total += k ** 2\n",
        "    return k if total == n else \"It is impossible\"\n",
        "\n",
        "def test_pyramid():\n",
        "    assert pyramid(1) == 1                    # 1^2 = 1\n",
        "    assert pyramid(5) == 2   # 1^2 + 2^2 = 5 → possible? No → 1+4=5 → return 2? Wait → should be 1^2+2^2=5, so return 2\n",
        "    assert pyramid(14) == 3                   # 1^2 + 2^2 + 3^2 = 14\n",
        "    assert pyramid(30) == 4                   # 1^2 + 2^2 + 3^2 + 4^2 = 30\n",
        "    assert pyramid(100) == \"It is impossible\"\n",
        "    assert pyramid(385) == 10                 # 1^2 + ... + 10^2 = 385\n",
        "    print(\"All tests passed!\")\n",
        "\n",
        "test_pyramid()\n"
      ]
    },
    {
      "cell_type": "markdown",
      "metadata": {
        "id": "KeKgmIdAQMEJ"
      },
      "source": [
        "# Задача 8\n",
        "Функция принимает на вход положительное число и определяет является ли оно сбалансированным, т.е. сумма цифр до средних равна сумме цифр после. Средними в случае нечетного числа цифр считать одну цифру, в случае четного - две средних. Написать тесты для кода"
      ]
    },
    {
      "cell_type": "code",
      "execution_count": 8,
      "metadata": {
        "id": "gMAAqtqlQrZt"
      },
      "outputs": [
        {
          "name": "stdout",
          "output_type": "stream",
          "text": [
            "All tests passed!\n"
          ]
        }
      ],
      "source": [
        "def is_balanced(n: int) -> bool:\n",
        "    s = str(n)\n",
        "    length = len(s)\n",
        "    half = length // 2\n",
        "\n",
        "    if length % 2 == 0:\n",
        "        left = s[:half - 1]\n",
        "        right = s[half + 1:]\n",
        "    else:\n",
        "        left = s[:half]\n",
        "        right = s[half + 1:]\n",
        "\n",
        "    return sum(map(int, left)) == sum(map(int, right))\n",
        "\n",
        "def test_is_balanced():\n",
        "    assert is_balanced(1238033) == True      # 1+2+3 == 3+0+3\n",
        "    assert is_balanced(1234086) == False     # 1+2+3 != 0+8+6\n",
        "    assert is_balanced(123321) == True       # 1+2 == 2+1 (ignores center 3 and 3)\n",
        "    assert is_balanced(5) == True            # nothing left/right → both sums = 0\n",
        "    assert is_balanced(11) == True           # left=0, right=0\n",
        "    assert is_balanced(12321) == True        # 1+2 == 2+1\n",
        "    assert is_balanced(123456789) == False   # 1+2+3+4 != 6+7+8+9\n",
        "    print(\"All tests passed!\")\n",
        "\n",
        "test_is_balanced()\n"
      ]
    }
  ],
  "metadata": {
    "colab": {
      "provenance": []
    },
    "kernelspec": {
      "display_name": "Python 3",
      "name": "python3"
    },
    "language_info": {
      "codemirror_mode": {
        "name": "ipython",
        "version": 3
      },
      "file_extension": ".py",
      "mimetype": "text/x-python",
      "name": "python",
      "nbconvert_exporter": "python",
      "pygments_lexer": "ipython3",
      "version": "3.12.1"
    }
  },
  "nbformat": 4,
  "nbformat_minor": 0
}
